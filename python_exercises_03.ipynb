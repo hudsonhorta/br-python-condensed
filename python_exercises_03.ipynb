{
  "nbformat": 4,
  "nbformat_minor": 0,
  "metadata": {
    "colab": {
      "name": "python_exercises_03.ipynb",
      "provenance": [],
      "include_colab_link": true
    },
    "kernelspec": {
      "name": "python3",
      "display_name": "Python 3"
    }
  },
  "cells": [
    {
      "cell_type": "markdown",
      "metadata": {
        "id": "view-in-github",
        "colab_type": "text"
      },
      "source": [
        "<a href=\"https://colab.research.google.com/github/hudsonhorta/br-python-condensed/blob/main/python_exercises_03.ipynb\" target=\"_parent\"><img src=\"https://colab.research.google.com/assets/colab-badge.svg\" alt=\"Open In Colab\"/></a>"
      ]
    },
    {
      "cell_type": "markdown",
      "metadata": {
        "id": "8YqaSZgXYJ5g"
      },
      "source": [
        "![](https://i.imgur.com/YX6UATs.png)\n"
      ]
    },
    {
      "cell_type": "markdown",
      "metadata": {
        "id": "hhUVzDipaGb9"
      },
      "source": [
        "### **Exercícios de Python - 3** \n",
        "\n",
        "\n",
        "\n"
      ]
    },
    {
      "cell_type": "markdown",
      "metadata": {
        "id": "7O6AZt8-aGlr"
      },
      "source": [
        "1 - Classe Bola:\\\n",
        "Crie uma classe que modele uma bola:\n",
        "\n",
        "Atributos: Cor, material\\\n",
        "Métodos: trocaCor "
      ]
    },
    {
      "cell_type": "code",
      "metadata": {
        "id": "ibipMzmZcfIF",
        "colab": {
          "base_uri": "https://localhost:8080/"
        },
        "outputId": "3d7df845-347b-4f27-9b0f-d56a52bb00e1"
      },
      "source": [
        "#programa para definição da classe Bola\r\n",
        "\r\n",
        "#variaveis:\r\n",
        "# Bola = armazena a classe Bola\r\n",
        "\r\n",
        "class Bola():\r\n",
        "  def __init__(self, cor, material):\r\n",
        "    self.cor = cor\r\n",
        "    self.material = material\r\n",
        "  \r\n",
        "  def trocaCor(self, novacor):\r\n",
        "    self.cor = novacor\r\n",
        "    print(f'A cor for alterada para {self.cor}!')\r\n",
        "\r\n",
        "#procedure para teste\r\n",
        "carro = Bola('vermelho','aço')\r\n",
        "aviao = Bola('azul', 'metal')\r\n",
        "carro.trocaCor('Vermelho')\r\n",
        "\r\n",
        "carro"
      ],
      "execution_count": 5,
      "outputs": [
        {
          "output_type": "stream",
          "text": [
            "A cor for alterada para Vermelho!\n"
          ],
          "name": "stdout"
        },
        {
          "output_type": "execute_result",
          "data": {
            "text/plain": [
              "<__main__.Bola at 0x7f134e935a10>"
            ]
          },
          "metadata": {
            "tags": []
          },
          "execution_count": 5
        }
      ]
    },
    {
      "cell_type": "markdown",
      "metadata": {
        "id": "c62cM2VlKFqN"
      },
      "source": [
        "2 - Classe Quadrado: Crie uma classe que modele um quadrado:\n",
        "\n",
        "Atributos: Tamanho do lado\n",
        "Métodos: Mudar valor do Lado e calcular Área;"
      ]
    },
    {
      "cell_type": "code",
      "metadata": {
        "id": "M_5mNjNbKFMI",
        "colab": {
          "base_uri": "https://localhost:8080/"
        },
        "outputId": "38fa78e8-a67e-45bc-afc5-ff4f0104911a"
      },
      "source": [
        "#programa para definição da classe Quadrado\r\n",
        "\r\n",
        "#variaveis:\r\n",
        "# Quadrado = armazena a classe Quadrado\r\n",
        "\r\n",
        "class Quadrado():\r\n",
        "  def __init__(self, tamanho_lado, area=0):\r\n",
        "    self.tamanho_lado = tamanho_lado\r\n",
        "    self.area = area\r\n",
        "  \r\n",
        "  def caculaArea(self):\r\n",
        "    self.area = self.tamanho_lado**2\r\n",
        "    print(f'A área do quadrado com lados de tamanho: {self.tamanho_lado} é de {self.area}')\r\n",
        "\r\n",
        "#procedure para teste\r\n",
        "caixa = Quadrado(10)\r\n",
        "caixa.caculaArea()"
      ],
      "execution_count": 4,
      "outputs": [
        {
          "output_type": "stream",
          "text": [
            "A área do quadrado com lados de tamanho: 10 é de 100\n"
          ],
          "name": "stdout"
        }
      ]
    },
    {
      "cell_type": "markdown",
      "metadata": {
        "id": "qMGp-h8OaGqr"
      },
      "source": [
        "3 - Classe funcionário \\\n",
        "Crie uma classe que crie funcionários de uma empresa.\\\n",
        "Atributos: Nome, Função, Salário. \\\n",
        "Métodos: aumento anual. O aumento anual deve ser de 10%.\\\n",
        "Crie dois objetos e dê um aument de 10% a um deles e um aumento de 20% ao outro."
      ]
    },
    {
      "cell_type": "code",
      "metadata": {
        "id": "3lzz274Thi0Y",
        "colab": {
          "base_uri": "https://localhost:8080/"
        },
        "outputId": "b950d060-06cd-4a1f-a4e7-553b72e355b7"
      },
      "source": [
        "#programa para definição da classe Funcionarios\r\n",
        "\r\n",
        "#variaveis:\r\n",
        "# Funcionarios = armazena a classe Quadrado\r\n",
        "\r\n",
        "class Funcionario():\r\n",
        "  def __init__(self, nome, funcao, salario):\r\n",
        "    self.nome = nome\r\n",
        "    self.funcao = funcao\r\n",
        "    self.salario = salario\r\n",
        "  \r\n",
        "  def aumento_anual(self, valor=10):\r\n",
        "    self.salario = self.salario+(self.salario*(valor/100))\r\n",
        "    print(f'O salário do funcionário {self.nome} foi reajustado em {valor}%. O novo salário é de R$ {self.salario}.')\r\n",
        "\r\n",
        "#procedure\r\n",
        "hudson = Funcionario('Hudson', 'DBA', 1000)\r\n",
        "r2d2 = Funcionario('R2D2', 'Droid', 5000)\r\n",
        "hudson.aumento_anual()\r\n",
        "r2d2.aumento_anual(20)"
      ],
      "execution_count": 5,
      "outputs": [
        {
          "output_type": "stream",
          "text": [
            "O salário do funcionário Hudson foi reajustado em 10%. O novo salário é de R$ 1100.0.\n",
            "O salário do funcionário R2D2 foi reajustado em 20%. O novo salário é de R$ 6000.0.\n"
          ],
          "name": "stdout"
        }
      ]
    },
    {
      "cell_type": "markdown",
      "metadata": {
        "id": "lCMWrvt3P4_x"
      },
      "source": [
        "04 - Utilizando a biblioteca Numpy, obtenha as médias, medianas e desvios padrão de altura, peso e IMC dos membros do dicionário a seguir:\\\n",
        "Trasforme os dicionários em um numpy array e utilize os métodos próprios dessa classe."
      ]
    },
    {
      "cell_type": "code",
      "metadata": {
        "id": "l4qtSxU7XquB"
      },
      "source": [
        "clientes = {'Charlotte': {'altura': 1.56, 'imc': 21, 'peso': 52, 'sexo': 'F'},\n",
        " 'Claudia': {'altura': 1.56, 'imc': 25, 'peso': 62, 'sexo': 'F'},\n",
        " 'Jonas': {'altura': 1.56, 'imc': 21, 'peso': 52, 'sexo': 'M'},\n",
        " 'Martha': {'altura': 1.98, 'imc': 19, 'peso': 76, 'sexo': 'F'},\n",
        " 'Mikkel': {'altura': 1.56, 'imc': 28, 'peso': 67, 'sexo': 'M'},\n",
        " 'Ulrich': {'altura': 1.92, 'imc': 22, 'peso': 80, 'sexo': 'M'}}"
      ],
      "execution_count": null,
      "outputs": []
    },
    {
      "cell_type": "code",
      "metadata": {
        "id": "nv9z8He8hOLf",
        "colab": {
          "base_uri": "https://localhost:8080/"
        },
        "outputId": "4f24e97d-8ef8-4005-9b18-23ab720665d3"
      },
      "source": [
        "#programa usando Numpy\r\n",
        "\r\n",
        "#variaveis:\r\n",
        "# clientes = dicionario clientes\r\n",
        "# np = objeto Numpy\r\n",
        "# alturas = array para as alturas em Numpy\r\n",
        "# pesoss = array para os Pesos em Numpy\r\n",
        "# imcs = array para os IMC em Numpy\r\n",
        "\r\n",
        "clientes = {'Charlotte': {'altura': 1.56, 'imc': 21, 'peso': 52, 'sexo': 'F'},\r\n",
        " 'Claudia': {'altura': 1.56, 'imc': 25, 'peso': 62, 'sexo': 'F'},\r\n",
        " 'Jonas': {'altura': 1.56, 'imc': 21, 'peso': 52, 'sexo': 'M'},\r\n",
        " 'Martha': {'altura': 1.98, 'imc': 19, 'peso': 76, 'sexo': 'F'},\r\n",
        " 'Mikkel': {'altura': 1.56, 'imc': 28, 'peso': 67, 'sexo': 'M'},\r\n",
        " 'Ulrich': {'altura': 1.92, 'imc': 22, 'peso': 80, 'sexo': 'M'}}\r\n",
        "\r\n",
        "#carrega biblioteca Numpy\r\n",
        "import numpy as np \r\n",
        "\r\n",
        "#função para criação do array Numpy\r\n",
        "def criaArray(nome_array, dados):\r\n",
        "  nome_array = np.array([])\r\n",
        "  for item in clientes.keys():\r\n",
        "    nome_array = np.append(nome_array, [clientes[item][dados]])\r\n",
        "\r\n",
        "#funcao para os calculos e apresentanção solicitados\r\n",
        "def calculos(tabela,nometab):\r\n",
        "  media = np.mean(tabela)\r\n",
        "  mediana = np.median(tabela)\r\n",
        "  desvio = np.std(tabela)\r\n",
        "  print(f'A média de {nometab} é {media}')\r\n",
        "  print(f'A mediana de {nometab} é {mediana}')\r\n",
        "  print(f'O desvio padrão de {nometab} é {desvio}')\r\n",
        "  print(\"=\"*80)\r\n",
        "\r\n",
        "#cria os array de acordo com cada informação desejada\r\n",
        "criaArray(pesos, 'peso')\r\n",
        "criaArray(alturas, 'altura')\r\n",
        "criaArray(imcs, 'imc')\r\n",
        "\r\n",
        "#realiza os calculos das informações e apresenta os mesmos\r\n",
        "calculos(alturas,'alturas')\r\n",
        "calculos(pesos,'Pesos')\r\n",
        "calculos(imcs,'IMC')\r\n",
        "\r\n",
        "\r\n",
        "\r\n",
        "\r\n",
        "\r\n",
        "\r\n",
        "#alturas = np.array(clientes[0]['altura']) \r\n",
        "#alturas\r\n",
        "#mediana = np.median(alturas,2)"
      ],
      "execution_count": 96,
      "outputs": [
        {
          "output_type": "stream",
          "text": [
            "A média de alturas é 1.6900000000000002\n",
            "A mediana de alturas é 1.56\n",
            "O desvio padrão de alturas é 0.18466185312619385\n",
            "================================================================================\n",
            "A média de Pesos é 64.83333333333333\n",
            "A mediana de Pesos é 64.5\n",
            "O desvio padrão de Pesos é 10.77677544021814\n",
            "================================================================================\n",
            "A média de IMC é 22.666666666666668\n",
            "A mediana de IMC é 21.5\n",
            "O desvio padrão de IMC é 2.981423969999719\n",
            "================================================================================\n"
          ],
          "name": "stdout"
        }
      ]
    },
    {
      "cell_type": "markdown",
      "metadata": {
        "id": "1a_TuuI6QDWa"
      },
      "source": [
        "05 - Realize o mesmo procedimento com a biblioteca Statistics\n"
      ]
    },
    {
      "cell_type": "code",
      "metadata": {
        "id": "y64mwLBVhN1L"
      },
      "source": [
        ""
      ],
      "execution_count": null,
      "outputs": []
    },
    {
      "cell_type": "markdown",
      "metadata": {
        "id": "Lm1tOKThnU42"
      },
      "source": [
        "Exercícios adaptados de Python Brasil"
      ]
    }
  ]
}