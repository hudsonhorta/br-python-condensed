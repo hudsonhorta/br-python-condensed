{
  "nbformat": 4,
  "nbformat_minor": 0,
  "metadata": {
    "colab": {
      "name": "python_exercises_02.ipynb",
      "provenance": [],
      "include_colab_link": true
    },
    "kernelspec": {
      "name": "python3",
      "display_name": "Python 3"
    }
  },
  "cells": [
    {
      "cell_type": "markdown",
      "metadata": {
        "id": "view-in-github",
        "colab_type": "text"
      },
      "source": [
        "<a href=\"https://colab.research.google.com/github/hudsonhorta/br-python-condensed/blob/main/python_exercises_02.ipynb\" target=\"_parent\"><img src=\"https://colab.research.google.com/assets/colab-badge.svg\" alt=\"Open In Colab\"/></a>"
      ]
    },
    {
      "cell_type": "markdown",
      "metadata": {
        "id": "8YqaSZgXYJ5g"
      },
      "source": [
        "![](https://i.imgur.com/YX6UATs.png)\n"
      ]
    },
    {
      "cell_type": "markdown",
      "metadata": {
        "id": "hhUVzDipaGb9"
      },
      "source": [
        "### **Exercícios de Python - 2** \n",
        "\n",
        "\n",
        "\n"
      ]
    },
    {
      "cell_type": "markdown",
      "metadata": {
        "id": "c62cM2VlKFqN"
      },
      "source": [
        "1 - Faça um programa que leia um nome de usuário e a sua senha e não aceite a senha igual ao nome do usuário, mostrando uma mensagem de erro."
      ]
    },
    {
      "cell_type": "code",
      "metadata": {
        "id": "A3ajzaOSq69B",
        "colab": {
          "base_uri": "https://localhost:8080/"
        },
        "outputId": "718aa021-1066-4cf2-e3cd-01b973c5dac6"
      },
      "source": [
        "#programa para comparação de nome e senha\r\n",
        "\r\n",
        "#variaveis:\r\n",
        "# nome = armazena o nome do usuario\r\n",
        "# senha = armazena a senha do usuario\r\n",
        "\r\n",
        "nome = input(\"Informe o Nome do Usuário: \")\r\n",
        "senha = input(\"Informe a Senha do Usuário: \")\r\n",
        "\r\n",
        "if nome == senha:\r\n",
        "  print(\"A senha não pode ser igual ao Nome do Usuário!\")\r\n",
        "else:\r\n",
        "  print(\"Validando Login...\")"
      ],
      "execution_count": 2,
      "outputs": [
        {
          "output_type": "stream",
          "text": [
            "Informe o Nome do Usuário: Hudson\n",
            "Informe a Senha do Usuário: neo01\n",
            "Validando Login...\n"
          ],
          "name": "stdout"
        }
      ]
    },
    {
      "cell_type": "markdown",
      "metadata": {
        "id": "qMGp-h8OaGqr"
      },
      "source": [
        "2 - Utilizando listas faça um programa que faça 5 perguntas para uma pessoa sobre um crime. As perguntas são:\n",
        "- \"Telefonou para a vítima?\"\n",
        "- \"Esteve no local do crime?\"\n",
        "- \"Mora perto da vítima?\"\n",
        "- \"Devia para a vítima?\"\n",
        "- \"Já trabalhou com a vítima?\" \\\n",
        "O programa deve no final emitir uma classificação sobre a participação da pessoa no crime. Se a pessoa responder positivamente a 2 questões ela deve ser classificada como \"Suspeita\", entre 3 e 4 como \"Cúmplice\" e 5 como \"Assassino\". Caso contrário, ele será classificado como \"Inocente\"."
      ]
    },
    {
      "cell_type": "code",
      "metadata": {
        "id": "kTg-D89NdCld",
        "colab": {
          "base_uri": "https://localhost:8080/"
        },
        "outputId": "06ffc903-0835-4d5e-c625-42d3c5fde84f"
      },
      "source": [
        "#programa para interrogação de vítimas\r\n",
        "\r\n",
        "#variaveis:\r\n",
        "# perguntas = lista de perguntas\r\n",
        "# respostas = lista de respostas\r\n",
        "# item = variavel de loop\r\n",
        "# resp_positiva = armazena numero de respostas positivas\r\n",
        "# frase = armazena frase para apresentação do resultado do interrogatório\r\n",
        "\r\n",
        "#lista de perguntas\r\n",
        "perguntas = ['Telefone para a Vítima? [s/n] ',\r\n",
        "             'Esteve no local do crime? [s/n]',\r\n",
        "             'Mora perto da vítima? [s/n]',\r\n",
        "             'Devia para a vítima? [s/n]',\r\n",
        "             'Já trabalhou com a vítima? [s/n]']\r\n",
        "\r\n",
        "#prepara lista de respostas\r\n",
        "respostas = []\r\n",
        "\r\n",
        "#apresenta mensagem com orientação sobre as perguntas\r\n",
        "print(\"Responda as perguntas a seguinte, informando [S]im ou [N]ão:\")\r\n",
        "\r\n",
        "#loop de perguntas, e armazena as respostas na lista respostas\r\n",
        "for item in perguntas:\r\n",
        "  respostas.append(input(item))\r\n",
        "\r\n",
        "#define quantidade inicial para resp_positiva\r\n",
        "resp_positiva = 0\r\n",
        "\r\n",
        "#loop para analise das respostas\r\n",
        "for item in respostas:\r\n",
        "  if item == 's':\r\n",
        "    resp_positiva = resp_positiva + 1\r\n",
        "\r\n",
        "#frase padrão de resposta da analise\r\n",
        "frase = \"O interrogado está classificado como:\"\r\n",
        "\r\n",
        "#apresenta resultado final de acordo com a quantidade de respostas positivas\r\n",
        "if resp_positiva == 2:\r\n",
        "  print(frase, \"Suspeito\")\r\n",
        "elif resp_positiva > 2 and resp_positiva < 5:\r\n",
        "  print(frase, \"Cúmplice\")\r\n",
        "elif resp_positiva == 5:\r\n",
        "  print(frase, \"Assasino\")\r\n",
        "else:\r\n",
        "  print(frase, \"Inocente\")"
      ],
      "execution_count": 17,
      "outputs": [
        {
          "output_type": "stream",
          "text": [
            "Responda as perguntas a seguinte, informando [S]im ou [N]ão:\n",
            "Telefone para a Vítima? [s/n] n\n",
            "Esteve no local do crime? [s/n]n\n",
            "Mora perto da vítima? [s/n]n\n",
            "Devia para a vítima? [s/n]n\n",
            "Já trabalhou com a vítima? [s/n]n\n",
            "O interrogado está classificado como: Inocente\n"
          ],
          "name": "stdout"
        }
      ]
    },
    {
      "cell_type": "markdown",
      "metadata": {
        "id": "FTK9nE4pdB1D"
      },
      "source": [
        "n3 - A lista abaixo possui nomes de alunos de uma classe. Crie um loop que imprima '{nome} é aluno da classe'\n"
      ]
    },
    {
      "cell_type": "code",
      "metadata": {
        "id": "nW4SbDxTmx4t"
      },
      "source": [
        "['Maria','João','Marcelo','Jonas','Laura','Luana']"
      ],
      "execution_count": null,
      "outputs": []
    },
    {
      "cell_type": "code",
      "metadata": {
        "id": "0sRr8MXCpbGP",
        "colab": {
          "base_uri": "https://localhost:8080/"
        },
        "outputId": "65e752bc-c2dd-484d-ef4e-f0febb682154"
      },
      "source": [
        "#programa para print de Nomes na lista\r\n",
        "\r\n",
        "#variaveis:\r\n",
        "# nomes = lista com nomes\r\n",
        "\r\n",
        "#definição da lista\r\n",
        "nomes = ['Maria','João','Marcelo','Jonas','Laura','Luana']\r\n",
        "\r\n",
        "#loop para apresenta os nomes da lista\r\n",
        "for item in nomes:\r\n",
        "  print(f\"{item} é aluno da classe\")\r\n"
      ],
      "execution_count": 18,
      "outputs": [
        {
          "output_type": "stream",
          "text": [
            "Maria é aluno da classe\n",
            "João é aluno da classe\n",
            "Marcelo é aluno da classe\n",
            "Jonas é aluno da classe\n",
            "Laura é aluno da classe\n",
            "Luana é aluno da classe\n"
          ],
          "name": "stdout"
        }
      ]
    },
    {
      "cell_type": "markdown",
      "metadata": {
        "id": "_HbJNv8MaG4g"
      },
      "source": [
        "4 - Utilizando-se da mesma lista trabalhada acima e a lista dada abaixo, que contem as idades dos alunos, realize um loop que faça a iteração com as duas listas printando \"{nome} tem {idade} anos\".\n",
        "Dica: utilize *zip*()"
      ]
    },
    {
      "cell_type": "code",
      "metadata": {
        "id": "LJDxmAbJeO9V"
      },
      "source": [
        "[23,34,42,54,26,27]"
      ],
      "execution_count": null,
      "outputs": []
    },
    {
      "cell_type": "code",
      "metadata": {
        "id": "Kq1Lc7Ukps-V",
        "colab": {
          "base_uri": "https://localhost:8080/"
        },
        "outputId": "961f2651-719c-436e-ae24-29c853eb688c"
      },
      "source": [
        "#programa para print de Nomes e Idades na lista\r\n",
        "\r\n",
        "#variaveis:\r\n",
        "# nomes = lista com nomes\r\n",
        "# idades = lista de idades\r\n",
        "\r\n",
        "#definição da lista\r\n",
        "nomes = ['Maria','João','Marcelo','Jonas','Laura','Luana']\r\n",
        "idades = [23,34,42,54,26,27]\r\n",
        "\r\n",
        "#loop para apresenta nomes e idades, utilizando a função zip()\r\n",
        "for item in zip(nomes, idades):\r\n",
        "  print(item)"
      ],
      "execution_count": 22,
      "outputs": [
        {
          "output_type": "stream",
          "text": [
            "('Maria', 23)\n",
            "('João', 34)\n",
            "('Marcelo', 42)\n",
            "('Jonas', 54)\n",
            "('Laura', 26)\n",
            "('Luana', 27)\n"
          ],
          "name": "stdout"
        }
      ]
    },
    {
      "cell_type": "markdown",
      "metadata": {
        "id": "0tkhm6EUaG1u"
      },
      "source": [
        "5 - Transforme as duas listas anteriores em um dicionário cuja chave é o nome e o valor é a idade."
      ]
    },
    {
      "cell_type": "code",
      "metadata": {
        "id": "MNINJ32eU45M",
        "colab": {
          "base_uri": "https://localhost:8080/"
        },
        "outputId": "088964b3-0e92-4549-b26b-184156cccfc5"
      },
      "source": [
        "#programa para tansforma lista em dicionario\r\n",
        "\r\n",
        "#variaveis:\r\n",
        "# nomes = lista com nomes\r\n",
        "# idades = lista de idades\r\n",
        "# alunos = dicionario a ser crido\r\n",
        "\r\n",
        "#definição da lista\r\n",
        "nomes = ['Maria','João','Marcelo','Jonas','Laura','Luana']\r\n",
        "idades = [23,34,42,54,26,27]\r\n",
        "\r\n",
        "alunos = {}\r\n",
        "for aluno in zip(nomes, idades):\r\n",
        "  alunos[aluno[0]] = {}\r\n",
        "  alunos[aluno[0]][\"idade\"] = aluno[1] \r\n",
        "\r\n",
        "alunos"
      ],
      "execution_count": 24,
      "outputs": [
        {
          "output_type": "execute_result",
          "data": {
            "text/plain": [
              "{'Jonas': {'idade': 54},\n",
              " 'João': {'idade': 34},\n",
              " 'Laura': {'idade': 26},\n",
              " 'Luana': {'idade': 27},\n",
              " 'Marcelo': {'idade': 42},\n",
              " 'Maria': {'idade': 23}}"
            ]
          },
          "metadata": {
            "tags": []
          },
          "execution_count": 24
        }
      ]
    },
    {
      "cell_type": "markdown",
      "metadata": {
        "id": "Lm1tOKThnU42"
      },
      "source": [
        "Exercícios adaptados de Python Brasil"
      ]
    }
  ]
}