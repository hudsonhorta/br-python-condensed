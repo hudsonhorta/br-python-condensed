{
  "nbformat": 4,
  "nbformat_minor": 0,
  "metadata": {
    "colab": {
      "name": "python_exercises_01.ipynb",
      "provenance": [],
      "include_colab_link": true
    },
    "kernelspec": {
      "name": "python3",
      "display_name": "Python 3"
    }
  },
  "cells": [
    {
      "cell_type": "markdown",
      "metadata": {
        "id": "view-in-github",
        "colab_type": "text"
      },
      "source": [
        "<a href=\"https://colab.research.google.com/github/hudsonhorta/br-python-condensed/blob/main/python_exercises_01.ipynb\" target=\"_parent\"><img src=\"https://colab.research.google.com/assets/colab-badge.svg\" alt=\"Open In Colab\"/></a>"
      ]
    },
    {
      "cell_type": "markdown",
      "metadata": {
        "id": "8YqaSZgXYJ5g"
      },
      "source": [
        "![](https://i.imgur.com/YX6UATs.png)\n"
      ]
    },
    {
      "cell_type": "markdown",
      "metadata": {
        "id": "hhUVzDipaGb9"
      },
      "source": [
        "### **Exercícios de Python - 1** \n",
        "\n",
        "\n",
        "\n"
      ]
    },
    {
      "cell_type": "markdown",
      "metadata": {
        "id": "qMGp-h8OaGqr"
      },
      "source": [
        "1 - Faça um programa, com uma função que necessite de três argumentos, e que forneça a soma desses três argumentos."
      ]
    },
    {
      "cell_type": "code",
      "metadata": {
        "id": "kTg-D89NdCld",
        "colab": {
          "base_uri": "https://localhost:8080/"
        },
        "outputId": "17e96666-ff96-49ec-fd53-1163b7cf798c"
      },
      "source": [
        "#programa para soma de tres números\r\n",
        "\r\n",
        "#variaveis:\r\n",
        "# a, b, c - variaveis para armazenamento dos numeros a ser utilizados na funcao soma()\r\n",
        "\r\n",
        "#definicao das variaveis\r\n",
        "a = 3\r\n",
        "b = 5\r\n",
        "c = 6\r\n",
        "\r\n",
        "#funcao soma()\r\n",
        "def soma(a, b, c):\r\n",
        "  result = a + b + c\r\n",
        "  return f\"O resultado da soma dos três números é: {result}\"\r\n",
        "\r\n",
        "#chamada da funcao soma()\r\n",
        "print(soma(a,b,c))\r\n"
      ],
      "execution_count": 9,
      "outputs": [
        {
          "output_type": "stream",
          "text": [
            "O resultado da soma dos três números é: 14\n"
          ],
          "name": "stdout"
        }
      ]
    },
    {
      "cell_type": "markdown",
      "metadata": {
        "id": "KdLXZftIaG60"
      },
      "source": [
        "2 - Faça um Programa que peça a temperatura em graus Celsius, transforme e mostre em graus Fahrenheit. \\\n",
        "*Dica: procure a fórmula para essa conversão na internet*"
      ]
    },
    {
      "cell_type": "code",
      "metadata": {
        "id": "MNINJ32eU45M",
        "colab": {
          "base_uri": "https://localhost:8080/"
        },
        "outputId": "d5b5a6b4-e3b0-441c-912a-e114b6eea030"
      },
      "source": [
        "#programa conversão de graus Celsius para Fahrenheit\r\n",
        "\r\n",
        "#variaveis:\r\n",
        "# temp - variavel para armazenar a temperatura em graus Celsius\r\n",
        "# temp_fah - variavel para armazenar o resultado da formula de conversão de Celsius para Fahrenheit\r\n",
        "\r\n",
        "#funcao converte_celsius()\r\n",
        "def converte_celsius():\r\n",
        "  temp = float(input(\"Informe a temperatura em graus Celsius. Utilize pontos, ex: 23.5: \"))\r\n",
        "  temp_fah = round((temp * 9/5) + 32,2)\r\n",
        "  return f\"O resultado da conversão de {temp}ºC para Fahrenheit é de {temp_fah}ºF\"\r\n",
        "  \r\n",
        "#chamada da funcao converte_celsius()\r\n",
        "print(converte_celsius())\r\n"
      ],
      "execution_count": 11,
      "outputs": [
        {
          "output_type": "stream",
          "text": [
            "Informe a temperatura em graus Celsius. Utilize pontos, ex: 23.56\n",
            "O resultado da conversão de 6.0ºC para Fahrenheit é de 42.8ºF\n"
          ],
          "name": "stdout"
        }
      ]
    },
    {
      "cell_type": "markdown",
      "metadata": {
        "id": "4OETBVgmaGzX"
      },
      "source": [
        "3 - Faça um Programa que peça um número inteiro e determine se ele é par ou impar. Dica: utilize o operador módulo (resto da divisão)."
      ]
    },
    {
      "cell_type": "code",
      "metadata": {
        "id": "WbzCimFZVSr1",
        "colab": {
          "base_uri": "https://localhost:8080/"
        },
        "outputId": "6de8fbc4-67d7-442d-f72a-eacfb61f5dd0"
      },
      "source": [
        "#programa verifica se um número é par ou impar\r\n",
        "\r\n",
        "#variaveis:\r\n",
        "# num - variavel para armazenar o numero pelo input\r\n",
        "# result - variavel para armazenar o resultado da funcao\r\n",
        "\r\n",
        "#funcao par_impar()\r\n",
        "def par_impar():\r\n",
        "  num = float(input(\"Informe um número para verificar se o mesmo é Par ou Impar: \"))\r\n",
        "  if(num % 2 == 0):\r\n",
        "    result = \"Número par.\"\r\n",
        "  else:\r\n",
        "    result = \"Número ímpar\"\r\n",
        "  return f\"O Número {num} é um {result}\"\r\n",
        "  \r\n",
        "#chamada da funcao par_impar()\r\n",
        "print(par_impar())\r\n"
      ],
      "execution_count": 14,
      "outputs": [
        {
          "output_type": "stream",
          "text": [
            "Informe um número para verificar se o mesmo é Par ou Impar4\n",
            "O Número 4.0 é um Número par.\n"
          ],
          "name": "stdout"
        }
      ]
    },
    {
      "cell_type": "markdown",
      "metadata": {
        "id": "7zPJ8sgPaGw0"
      },
      "source": [
        "4 - Faça um programa que peça o tamanho de um arquivo para download (em MB) e a velocidade de um link de Internet (em Mbps), calcule e informe o tempo aproximado de download do arquivo usando este link (em minutos)."
      ]
    },
    {
      "cell_type": "code",
      "metadata": {
        "id": "l4qtSxU7XquB",
        "colab": {
          "base_uri": "https://localhost:8080/"
        },
        "outputId": "200760a5-168a-48ca-daea-51f0dd21c423"
      },
      "source": [
        "#programa informa tempo de download\r\n",
        "\r\n",
        "#variaveis:\r\n",
        "# tamanho - variavel para armazenar o tamanho do arquivo em MB\r\n",
        "# velocidade - variavel para armazenar a velocidade da internet em Mbps\r\n",
        "# download = variavel para armazenar o resultado do tempo de download em minutos\r\n",
        "\r\n",
        "#funcao tempo_download()\r\n",
        "def tempo_download():\r\n",
        "  tamanho = float(input(\"Informe o tamanho do arquivo em MB. Utilize pontos, ex: 125.5: \"))\r\n",
        "  velocidade = float(input(\"Informe a velocidade do internet em Mbps. Utilize pontos, ex: 2.3: \"))\r\n",
        "  download = tamanho * (velocidade / 60)\r\n",
        "  return f\"Para realizar o download de um arquivo de {tamanho}Mb usando o link de {velocidade}Mbps, será necessário {download} minutos\"\r\n",
        "  \r\n",
        "#chamada da funcao tempo_download()\r\n",
        "print(tempo_download())"
      ],
      "execution_count": 20,
      "outputs": [
        {
          "output_type": "stream",
          "text": [
            "Informe o tamanho do arquivo em MB. Utilize pontos, ex: 125.5: 60\n",
            "Informe a velocidade do internet em Mbps. Utilize pontos, ex: 2.3: 1\n",
            "Para realizar o download de um arquivo de 60.0Mb usando o link de 1.0Mbps, será necessário 1.0 minutos\n"
          ],
          "name": "stdout"
        }
      ]
    },
    {
      "cell_type": "markdown",
      "metadata": {
        "id": "0tkhm6EUaG1u"
      },
      "source": [
        "5 - Faça um programa para a leitura de duas notas parciais de um aluno. O programa deve calcular a média alcançada por aluno e apresentar:\n",
        "- A mensagem \"Aprovado\", se a média alcançada for maior ou igual a sete;\n",
        "- A mensagem \"Reprovado\", se a média for menor do que sete;\n",
        "- A mensagem \"Aprovado com Distinção\", se a média for igual a dez."
      ]
    },
    {
      "cell_type": "code",
      "metadata": {
        "id": "990mQ6UhdwKl",
        "colab": {
          "base_uri": "https://localhost:8080/"
        },
        "outputId": "8c03dc9f-2087-4d6b-c4b5-c22ad58404b8"
      },
      "source": [
        "#programa informa aprovação do aluno de acordo com a media da nota\r\n",
        "\r\n",
        "#variaveis:\r\n",
        "# nota1 - variavel para armazenar a primeira nota\r\n",
        "# nota2 - variavel para armazenar a segunda nota\r\n",
        "# media - variavel para armazenar a media\r\n",
        "# aprovacao - variavel para armazenar o resultado da aprovacao\r\n",
        "\r\n",
        "#funcao calcula_aprovacao()\r\n",
        "def calcula_aprovacao(nota1, nota2):\r\n",
        "  media = (nota1 + nota2) / 2\r\n",
        "\r\n",
        "  if media >= 7:\r\n",
        "    aprovacao = \"Aprovado\"\r\n",
        "    if media == 10:\r\n",
        "      aprovacao = \"Aprovado com Distinção\"\r\n",
        "  else:\r\n",
        "    aprovacao = \"Reprovado\"\r\n",
        "\r\n",
        "  return f\"O resultado final do aluno é {aprovacao}!\"\r\n",
        "\r\n",
        "#definicação das variaveis\r\n",
        "nota1 = 6\r\n",
        "nota2 = 7\r\n",
        "\r\n",
        "#chamada da funcao calcula_aprovacao()\r\n",
        "print(calcula_aprovacao(nota1, nota2))"
      ],
      "execution_count": 28,
      "outputs": [
        {
          "output_type": "stream",
          "text": [
            "O resultado final do aluno é Reprovado!\n"
          ],
          "name": "stdout"
        }
      ]
    },
    {
      "cell_type": "markdown",
      "metadata": {
        "id": "Lm1tOKThnU42"
      },
      "source": [
        "Exercícios adaptados de Python Brasil"
      ]
    }
  ]
}